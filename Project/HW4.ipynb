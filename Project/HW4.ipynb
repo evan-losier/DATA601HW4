{
 "cells": [
  {
   "cell_type": "markdown",
   "metadata": {},
   "source": [
    "DATA 601 Assignment 4\n",
    "\n",
    "Evan Losier 30022571"
   ]
  },
  {
   "cell_type": "code",
   "execution_count": null,
   "metadata": {},
   "outputs": [
    {
     "data": {
      "text/plain": [
       "(494, 31)"
      ]
     },
     "metadata": {},
     "output_type": "display_data"
    },
    {
     "data": {
      "text/plain": [
       "Index(['Property Id', 'Property Name', 'Address 1', 'City', 'Postal Code',\n",
       "       'Province', 'Primary Property Type - Self Selected',\n",
       "       'Number of Buildings', 'Year Built',\n",
       "       'Property GFA - Self-Reported (m²)', 'ENERGY STAR Score',\n",
       "       'Site Energy Use (GJ)', 'Weather Normalized Site Energy Use (GJ)',\n",
       "       'Site EUI (GJ/m²)', 'Weather Normalized Site EUI (GJ/m²)',\n",
       "       'Source Energy Use (GJ)', 'Weather Normalized Source Energy Use (GJ)',\n",
       "       'Source EUI (GJ/m²)', 'Weather Normalized Source EUI (GJ/m²)',\n",
       "       'Total GHG Emissions (Metric Tons CO2e)',\n",
       "       'Total GHG Emissions Intensity (kgCO2e/m²)',\n",
       "       'Direct GHG Emissions (Metric Tons CO2e)',\n",
       "       'Direct GHG Emissions Intensity (kgCO2e/m²)',\n",
       "       'Electricity Use - Grid Purchase (kWh)', 'Natural Gas Use (GJ)',\n",
       "       'District Hot Water Use (GJ)',\n",
       "       'Electricity Use – Generated from Onsite Renewable Systems (kWh)',\n",
       "       'Green Power - Onsite and Offsite (kWh)',\n",
       "       'Avoided Emissions - Onsite and Offsite Green Power (Metric Tons CO2e)',\n",
       "       'Year Ending', 'Unique ID'],\n",
       "      dtype='object')"
      ]
     },
     "metadata": {},
     "output_type": "display_data"
    },
    {
     "data": {
      "text/plain": [
       "Property Id                                                                int64\n",
       "Property Name                                                             object\n",
       "Address 1                                                                 object\n",
       "City                                                                      object\n",
       "Postal Code                                                               object\n",
       "Province                                                                  object\n",
       "Primary Property Type - Self Selected                                     object\n",
       "Number of Buildings                                                        int64\n",
       "Year Built                                                                 int64\n",
       "Property GFA - Self-Reported (m²)                                        float64\n",
       "ENERGY STAR Score                                                        float64\n",
       "Site Energy Use (GJ)                                                     float64\n",
       "Weather Normalized Site Energy Use (GJ)                                  float64\n",
       "Site EUI (GJ/m²)                                                         float64\n",
       "Weather Normalized Site EUI (GJ/m²)                                      float64\n",
       "Source Energy Use (GJ)                                                   float64\n",
       "Weather Normalized Source Energy Use (GJ)                                float64\n",
       "Source EUI (GJ/m²)                                                       float64\n",
       "Weather Normalized Source EUI (GJ/m²)                                    float64\n",
       "Total GHG Emissions (Metric Tons CO2e)                                   float64\n",
       "Total GHG Emissions Intensity (kgCO2e/m²)                                float64\n",
       "Direct GHG Emissions (Metric Tons CO2e)                                  float64\n",
       "Direct GHG Emissions Intensity (kgCO2e/m²)                               float64\n",
       "Electricity Use - Grid Purchase (kWh)                                    float64\n",
       "Natural Gas Use (GJ)                                                     float64\n",
       "District Hot Water Use (GJ)                                              float64\n",
       "Electricity Use – Generated from Onsite Renewable Systems (kWh)          float64\n",
       "Green Power - Onsite and Offsite (kWh)                                   float64\n",
       "Avoided Emissions - Onsite and Offsite Green Power (Metric Tons CO2e)    float64\n",
       "Year Ending                                                                int64\n",
       "Unique ID                                                                 object\n",
       "dtype: object"
      ]
     },
     "metadata": {},
     "output_type": "display_data"
    },
    {
     "data": {
      "text/plain": [
       "Property Id                                                                0\n",
       "Property Name                                                              0\n",
       "Address 1                                                                  0\n",
       "City                                                                       0\n",
       "Postal Code                                                                0\n",
       "Province                                                                   0\n",
       "Primary Property Type - Self Selected                                      0\n",
       "Number of Buildings                                                        0\n",
       "Year Built                                                                 0\n",
       "Property GFA - Self-Reported (m²)                                          0\n",
       "ENERGY STAR Score                                                        329\n",
       "Site Energy Use (GJ)                                                       0\n",
       "Weather Normalized Site Energy Use (GJ)                                    0\n",
       "Site EUI (GJ/m²)                                                           0\n",
       "Weather Normalized Site EUI (GJ/m²)                                        0\n",
       "Source Energy Use (GJ)                                                     0\n",
       "Weather Normalized Source Energy Use (GJ)                                  2\n",
       "Source EUI (GJ/m²)                                                         0\n",
       "Weather Normalized Source EUI (GJ/m²)                                      0\n",
       "Total GHG Emissions (Metric Tons CO2e)                                     0\n",
       "Total GHG Emissions Intensity (kgCO2e/m²)                                  0\n",
       "Direct GHG Emissions (Metric Tons CO2e)                                    0\n",
       "Direct GHG Emissions Intensity (kgCO2e/m²)                                 0\n",
       "Electricity Use - Grid Purchase (kWh)                                      0\n",
       "Natural Gas Use (GJ)                                                      10\n",
       "District Hot Water Use (GJ)                                              479\n",
       "Electricity Use – Generated from Onsite Renewable Systems (kWh)          450\n",
       "Green Power - Onsite and Offsite (kWh)                                   198\n",
       "Avoided Emissions - Onsite and Offsite Green Power (Metric Tons CO2e)    198\n",
       "Year Ending                                                                0\n",
       "Unique ID                                                                  0\n",
       "dtype: int64"
      ]
     },
     "metadata": {},
     "output_type": "display_data"
    },
    {
     "data": {
      "text/plain": [
       "0      T2H 0Z4\n",
       "1      T2E 7L7\n",
       "2      T2G 0W2\n",
       "3      T2G 0G2\n",
       "4      T2G 4M7\n",
       "        ...   \n",
       "489    T2G 1T7\n",
       "490    T2C 2X1\n",
       "491    T2N 3G8\n",
       "492    T2W 4H7\n",
       "493    T3A 5G1\n",
       "Name: Postal Code, Length: 494, dtype: object"
      ]
     },
     "metadata": {},
     "output_type": "display_data"
    }
   ],
   "source": [
    "#Part 1\n",
    "\n",
    "import pandas as pd\n",
    "import numpy as np\n",
    "import matplotlib.pyplot as plt\n",
    "import matplotlib as mpl\n",
    "import seaborn as sns\n",
    "import re\n",
    "\n",
    "# Load the dataset\n",
    "df = pd.read_csv(\"Building_Energy_Benchmarking.csv\", thousands=',')\n",
    "\n",
    "#Display shape, columns, and data types\n",
    "display(df.shape)\n",
    "display(df.columns)\n",
    "display(df.dtypes)\n",
    "\n",
    "# Count of missing data\n",
    "nulls = df.isnull().sum()\n",
    "display(nulls)\n",
    "\n",
    "# Drop columns <60% non-null\n",
    "df.dropna(axis=1, thresh=np.ceil(0.6 * len(df.index)), inplace=True)\n",
    "\n",
    "# Impute missing values\n",
    "df.fillna({\n",
    "    'Weather Normalized Source Energy Use (GJ)': df['Weather Normalized Source Energy Use (GJ)'].median(),\n",
    "    'Natural Gas Use (GJ)': df['Natural Gas Use (GJ)'].median()\n",
    "}, inplace=True)\n",
    "\n",
    "# Property GFA, Energy Use, and Emissions columns are already numeric. I don't see what needs to be cleaned here.\n",
    "\n",
    "# Standardize postal codes to have uppercase letters and a space in the middle\n",
    "oldPost = r\"([a-zA-Z][0-9][a-zA-Z]) *([0-9][a-zA-Z][0-9])\"\n",
    "newPost = r\"\\1 \\2\"\n",
    "df['Postal Code'] = [re.sub(oldPost, newPost, str(x).upper()) for x in df['Postal Code']]\n",
    "display(df['Postal Code'])\n",
    "\n",
    "# Property Names and Addresses do not contain any meaningless information. I don't see what needs to be cleaned here.\n",
    "\n",
    "# Postal Codes, Property Names, and Addresses cannot be converted to numerical types.\n"
   ]
  }
 ],
 "metadata": {
  "kernelspec": {
   "display_name": "Python 3",
   "language": "python",
   "name": "python3"
  },
  "language_info": {
   "codemirror_mode": {
    "name": "ipython",
    "version": 3
   },
   "file_extension": ".py",
   "mimetype": "text/x-python",
   "name": "python",
   "nbconvert_exporter": "python",
   "pygments_lexer": "ipython3",
   "version": "3.12.2"
  }
 },
 "nbformat": 4,
 "nbformat_minor": 2
}
